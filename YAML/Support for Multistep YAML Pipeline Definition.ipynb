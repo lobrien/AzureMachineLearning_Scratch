{
  "cells": [
    {
      "cell_type": "code",
      "source": [
        "from azureml.pipeline.core import Pipeline\n",
        "from azureml.core import Datastore\n",
        "from azureml.pipeline.core import PipelineData\n",
        "from azureml.pipeline.steps import PythonScriptStep"
      ],
      "outputs": [],
      "execution_count": null,
      "metadata": {}
    },
    {
      "cell_type": "code",
      "source": [
        "from azureml.core import Workspace\n",
        "from azureml.core.authentication import InteractiveLoginAuthentication\n",
        "\n",
        "ws = Workspace.from_config(auth=InteractiveLoginAuthentication(tenant_id=os.environ[\"AML_TENANT_ID\"]))\n",
        "ws"
      ],
      "outputs": [],
      "execution_count": null,
      "metadata": {}
    },
    {
      "cell_type": "code",
      "source": [
        "from azureml.core import Dataset, ComputeTarget\n",
        "from azureml.core.compute import ComputeTarget, AmlCompute\n",
        "\n",
        "compute = AmlCompute(ws, \"cpu-compute2\")\n",
        "print(compute)"
      ],
      "outputs": [],
      "execution_count": null,
      "metadata": {}
    },
    {
      "cell_type": "code",
      "source": [
        "datastore = ws.get_default_datastore()"
      ],
      "outputs": [],
      "execution_count": null,
      "metadata": {}
    },
    {
      "cell_type": "code",
      "source": [
        "from azureml.core.runconfig import RunConfiguration\n",
        "from azureml.core.conda_dependencies import CondaDependencies\n",
        "aml_run_config = RunConfiguration()\n",
        "aml_run_config.target = compute\n",
        "\n",
        "# Use conda_dependencies.yml to create a conda environment in the Docker image for execution\n",
        "aml_run_config.environment.python.user_managed_dependencies = False\n",
        "\n",
        "# Specify CondaDependencies obj, add necessary packages\n",
        "aml_run_config.environment.python.conda_dependencies = CondaDependencies.create(\n",
        "    conda_packages=['pandas','scikit-learn'], \n",
        "    pip_packages=['azureml-sdk', 'azureml-dataprep[fuse,pandas]'], \n",
        "    pin_sdk_version=False)"
      ],
      "outputs": [],
      "execution_count": null,
      "metadata": {}
    },
    {
      "cell_type": "markdown",
      "source": [
        "## Step 0: Grab an open dataset and register it"
      ],
      "metadata": {}
    },
    {
      "cell_type": "markdown",
      "source": [
        "This is baseline data. If the `Dataset` does not exist, create and register it. Not a part of the Pipeline."
      ],
      "metadata": {}
    },
    {
      "cell_type": "code",
      "source": [
        "if not 'titanic_ds' in ws.datasets.keys() :\n",
        "    # create a TabularDataset from Titanic training data\n",
        "    web_paths = ['https://dprepdata.blob.core.windows.net/demo/Titanic.csv',\n",
        "                 'https://dprepdata.blob.core.windows.net/demo/Titanic2.csv']\n",
        "    titanic_ds = Dataset.Tabular.from_delimited_files(path=web_paths)\n",
        "\n",
        "    titanic_ds.register(workspace = ws,\n",
        "                                     name = 'titanic_ds',\n",
        "                                     description = 'new titanic training data',\n",
        "                                     create_new_version = True)\n",
        "\ntitanic_ds = Dataset.get_by_name(ws, 'titanic_ds')"
      ],
      "outputs": [],
      "execution_count": null,
      "metadata": {}
    },
    {
      "cell_type": "code",
      "source": [
        "type(titanic_ds)"
      ],
      "outputs": [],
      "execution_count": null,
      "metadata": {}
    },
    {
      "cell_type": "code",
      "source": [
        "if not 'titanic_files_ds' in ws.datasets.keys() :\n",
        "    # create a TabularDataset from Titanic training data\n",
        "    web_paths = ['https://dprepdata.blob.core.windows.net/demo/Titanic.csv',\n",
        "                 'https://dprepdata.blob.core.windows.net/demo/Titanic2.csv']\n",
        "    titanic_ds = Dataset.File.from_files(path=web_paths)\n",
        "\n",
        "    titanic_ds.register(workspace = ws,\n",
        "                                     name = 'titanic_files_ds',\n",
        "                                     description = 'File Dataset of titanic training data',\n",
        "                                     create_new_version = True)"
      ],
      "outputs": [],
      "execution_count": null,
      "metadata": {}
    },
    {
      "cell_type": "markdown",
      "source": [
        "## Step 1: Dataprep"
      ],
      "metadata": {}
    },
    {
      "cell_type": "code",
      "source": [
        "%%writefile dataprep.py\n",
        "\n",
        "import pandas as pd \n",
        "from azureml.core import Run\n",
        "import numpy as np \n",
        "from sklearn.model_selection import train_test_split\n",
        "import argparse\n",
        "\n",
        "RANDOM_SEED=42\n",
        "\n",
        "def prepare_age(df):\n",
        "    # Fill in missing Age values from distribution of present Age values \n",
        "    mean = df[\"Age\"].mean()\n",
        "    std = df[\"Age\"].std()\n",
        "    is_null = df[\"Age\"].isnull().sum()\n",
        "    # compute enough (== is_null().sum()) random numbers between the mean, std\n",
        "    rand_age = np.random.randint(mean - std, mean + std, size = is_null)\n",
        "    # fill NaN values in Age column with random values generated\n",
        "    age_slice = df[\"Age\"].copy()\n",
        "    age_slice[np.isnan(age_slice)] = rand_age\n",
        "    df[\"Age\"] = age_slice\n",
        "    df[\"Age\"] = df[\"Age\"].astype(int)\n",
        "    \n",
        "    # Quantize age into 5 classes\n",
        "    df['Age_Group'] = pd.qcut(df['Age'],5, labels=False)\n",
        "    df.drop(['Age'], axis=1, inplace=True)\n",
        "    return df\n",
        "\n",
        "def prepare_fare(df):\n",
        "    df['Fare'].fillna(0, inplace=True)\n",
        "    df['Fare_Group'] = pd.qcut(df['Fare'],5,labels=False)\n",
        "    df.drop(['Fare'], axis=1, inplace=True)\n",
        "    return df \n",
        "\n",
        "def prepare_genders(df):\n",
        "    genders = {\"male\": 0, \"female\": 1, \"unknown\": 2}\n",
        "    df['Sex'] = df['Sex'].map(genders)\n",
        "    df['Sex'].fillna(2, inplace=True)\n",
        "    df['Sex'] = df['Sex'].astype(int)\n",
        "    return df\n",
        "\n",
        "def prepare_embarked(df):\n",
        "    df['Embarked'].replace('', 'U', inplace=True)\n",
        "    df['Embarked'].fillna('U', inplace=True)\n",
        "    ports = {\"S\": 0, \"C\": 1, \"Q\": 2, \"U\": 3}\n",
        "    df['Embarked'] = df['Embarked'].map(ports)\n",
        "    return df\n",
        "    \n",
        "parser = argparse.ArgumentParser()\n",
        "parser.add_argument('--train_path', dest='train_path', required=True)\n",
        "parser.add_argument('--test_path', dest='test_path', required=True)\n",
        "args = parser.parse_args()\n",
        "    \n",
        "titanic_ds = Run.get_context().input_datasets['titanic_ds']\n",
        "df = titanic_ds.to_pandas_dataframe().drop(['PassengerId', 'Name', 'Ticket', 'Cabin'], axis=1)\n",
        "df = prepare_embarked(prepare_genders(prepare_fare(prepare_age(df))))\n",
        "\n",
        "train, test = train_test_split(df, test_size = 0.2)\n",
        "\n",
        "os.makedirs(os.path.dirname(args.train_path), exist_ok=True)\n",
        "train.to_csv(args.train_path)\n",
        "\n",
        "os.makedirs(os.path.dirname(args.test_path), exist_ok=True)\n",
        "test.to_csv(args.test_path)\n",
        "\nprint(f\"Wrote test to {args.train_path} and train to {args.test_path}\")"
      ],
      "outputs": [],
      "execution_count": null,
      "metadata": {}
    },
    {
      "cell_type": "code",
      "source": [
        "train_pd = PipelineData(\"titanic_train\", datastore)\n",
        "test_pd = PipelineData(\"titanic_test\", datastore)"
      ],
      "outputs": [],
      "execution_count": null,
      "metadata": {}
    },
    {
      "cell_type": "code",
      "source": [
        "dataprep_step = PythonScriptStep(\n",
        "    name=\"dataprep\", \n",
        "    script_name=\"dataprep.py\", \n",
        "    compute_target=compute, \n",
        "    runconfig=aml_run_config,\n",
        "    arguments=[\"--train_path\", train_pd, \"--test_path\", test_pd],\n",
        "    inputs=[titanic_ds.as_named_input(\"titanic_ds\")],\n",
        "    outputs=[train_pd, test_pd]\n",
        ")"
      ],
      "outputs": [],
      "execution_count": null,
      "metadata": {}
    },
    {
      "cell_type": "markdown",
      "source": [
        "### Step 2: Train with SKLearn"
      ],
      "metadata": {}
    },
    {
      "cell_type": "code",
      "source": [
        "%%writefile train.py\n",
        "\n",
        "import pandas as pd \n",
        "from sklearn.ensemble import RandomForestClassifier\n",
        "import argparse\n",
        "\n",
        "parser = argparse.ArgumentParser()\n",
        "parser.add_argument('--train_path', dest='train_path', required=True)\n",
        "parser.add_argument('--test_path', dest='test_path', required=True)\n",
        "args = parser.parse_args()\n",
        "    \n",
        "train = pd.read_csv(args.train_path)\n",
        "test = pd.read_csv(args.test_path)\n",
        "\n",
        "train_X = train.drop(\"Survived\", axis=1)\n",
        "train_y = train[\"Survived\"]\n",
        "\n",
        "random_forest = RandomForestClassifier(n_estimators=100)\n",
        "random_forest.fit(train_X, train_y)\n",
        "\n\n",
        "test_X = test.drop(\"Survived\", axis=1)\n",
        "test_y = test[\"Survived\"]\n",
        "\n",
        "score = round(random_forest.score(test_X, test_y) * 100, 2)\n",
        "print(f\"Score of RandomForestClassifier was {score}%\")"
      ],
      "outputs": [],
      "execution_count": null,
      "metadata": {}
    },
    {
      "cell_type": "code",
      "source": [
        "train_step = PythonScriptStep(\n",
        "    name=\"train\", \n",
        "    script_name=\"train.py\", \n",
        "    compute_target=compute, \n",
        "    runconfig=aml_run_config,\n",
        "    arguments=[\"--train_path\", train_pd, \"--test_path\", test_pd],\n",
        "    inputs=[train_pd, test_pd],\n",
        "    outputs=[]\n",
        ")"
      ],
      "outputs": [],
      "execution_count": null,
      "metadata": {}
    },
    {
      "cell_type": "markdown",
      "source": [
        "## Submit it"
      ],
      "metadata": {}
    },
    {
      "cell_type": "code",
      "source": [
        "from azureml.core import Experiment \n",
        "if not 'titanic_2step' in ws.experiments.keys() :\n",
        "    Experiment(ws, 'titanic_2step')\n",
        "experiment = ws.experiments['titanic_2step']"
      ],
      "outputs": [],
      "execution_count": null,
      "metadata": {}
    },
    {
      "cell_type": "code",
      "source": [
        "pipeline = Pipeline(ws, [dataprep_step, train_step])"
      ],
      "outputs": [],
      "execution_count": null,
      "metadata": {}
    },
    {
      "cell_type": "code",
      "source": [
        "run = experiment.submit(pipeline, show_output=True)"
      ],
      "outputs": [],
      "execution_count": null,
      "metadata": {}
    },
    {
      "cell_type": "code",
      "source": [],
      "outputs": [],
      "execution_count": null,
      "metadata": {}
    }
  ],
  "metadata": {
    "kernelspec": {
      "name": "python3",
      "language": "python",
      "display_name": "Python 3"
    },
    "language_info": {
      "name": "python",
      "version": "3.6.7",
      "mimetype": "text/x-python",
      "codemirror_mode": {
        "name": "ipython",
        "version": 3
      },
      "pygments_lexer": "ipython3",
      "nbconvert_exporter": "python",
      "file_extension": ".py"
    },
    "kernel_info": {
      "name": "python3"
    },
    "nteract": {
      "version": "0.12.3"
    }
  },
  "nbformat": 4,
  "nbformat_minor": 4
}